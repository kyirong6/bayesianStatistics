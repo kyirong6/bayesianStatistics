{
 "cells": [
  {
   "cell_type": "code",
   "execution_count": 2,
   "id": "expected-abortion",
   "metadata": {},
   "outputs": [],
   "source": [
    "import pystan\n",
    "import pandas as pd\n",
    "import numpy as np\n",
    "import seaborn as sns\n",
    "import arviz as az"
   ]
  },
  {
   "cell_type": "markdown",
   "id": "capital-applicant",
   "metadata": {},
   "source": [
    "# 2\n",
    "\n",
    "Problem: David Beckham has scored 1 goal in the past 2 games (1/2 = 0.5). How many goals will he score in each of the remaining games?\n",
    "\n",
    "Previously while playing in Madrid, he scored 3 goals in 22 games (3/22 = 0.14). Therefore, we will choose a gamma prior as such: gamma(1.4, 10). The mean is around 0.14 and variance large enough to reflect our uncertainty:\n",
    "\n",
    "$\\theta \\sim Gamma(\\alpha=1.4, \\beta=10)$\n",
    "\n",
    "$y_i$ (number of goals scored in game i) is modelled by the poisson distribution:\n",
    "\n",
    "$y_i|\\lambda \\sim poisson(\\lambda)$\n",
    "\n",
    "\n",
    "**a)** give a point estimate for the expected number of goals for Beckham in a given game using the posterior mean.\n",
    "\n",
    "**b)** give a 95% equal tailed interval for $\\lambda$"
   ]
  },
  {
   "cell_type": "code",
   "execution_count": 3,
   "id": "located-hygiene",
   "metadata": {},
   "outputs": [
    {
     "data": {
      "text/plain": [
       "<seaborn.axisgrid.FacetGrid at 0x7fcba8f2a2e8>"
      ]
     },
     "execution_count": 3,
     "metadata": {},
     "output_type": "execute_result"
    },
    {
     "data": {
      "image/png": "[encoded data removed]",
      "text/plain": [
       "<Figure size 360x360 with 1 Axes>"
      ]
     },
     "metadata": {
      "needs_background": "light"
     },
     "output_type": "display_data"
    }
   ],
   "source": [
    "# prior distribution\n",
    "sns.displot(np.random.beta(1.4,10, size=10000),kde=False)"
   ]
  },
  {
   "cell_type": "code",
   "execution_count": 4,
   "id": "average-pursuit",
   "metadata": {},
   "outputs": [
    {
     "name": "stderr",
     "output_type": "stream",
     "text": [
      "INFO:pystan:COMPILING THE C++ CODE FOR MODEL anon_model_a3076656f9ce9fa030df3cd8d73f945a NOW.\n"
     ]
    },
    {
     "name": "stdout",
     "output_type": "stream",
     "text": [
      "Inference for Stan model: anon_model_a3076656f9ce9fa030df3cd8d73f945a.\n",
      "4 chains, each with iter=4000; warmup=1000; thin=1; \n",
      "post-warmup draws per chain=3000, total post-warmup draws=12000.\n",
      "\n",
      "         mean se_mean     sd   2.5%    25%    50%    75%  97.5%  n_eff   Rhat\n",
      "lambda    0.2  2.1e-3   0.13   0.03   0.11   0.17   0.27   0.53   3779    1.0\n",
      "lp__     -6.8    0.01   0.76  -8.85  -6.99  -6.52  -6.32  -6.26   2907    1.0\n",
      "\n",
      "Samples were drawn using NUTS at Tue Feb  9 15:30:57 2021.\n",
      "For each parameter, n_eff is a crude measure of effective sample size,\n",
      "and Rhat is the potential scale reduction factor on split chains (at \n",
      "convergence, Rhat=1).\n"
     ]
    }
   ],
   "source": [
    "# poisson model\n",
    "model_code = \"\"\"\n",
    "    data {\n",
    "      int<lower=0> N;\n",
    "      int<lower=0> y[N];\n",
    "    }\n",
    "    parameters {\n",
    "      real<lower=0> lambda;\n",
    "    }\n",
    "    model {\n",
    "      lambda ~ gamma(1.4, 10);\n",
    "      for (n in 1:N)\n",
    "          y[n] ~ poisson(lambda);\n",
    "    }\n",
    "    \"\"\"\n",
    "data = dict(N=2, y=[1,0])\n",
    "model = pystan.StanModel(model_code=model_code)\n",
    "fit = model.sampling(data=data,iter=4000, chains=4, warmup=1000)\n",
    "la = fit.extract(permuted=True)  # return a dictionary of arrays\n",
    "print(fit.stansummary())"
   ]
  },
  {
   "cell_type": "markdown",
   "id": "whole-bundle",
   "metadata": {},
   "source": [
    "# Results\n",
    "\n",
    "Based off of our experiment, the expected number of goals is: $E[\\lambda | y] = 0.2$\n",
    "\n",
    "A 95% equal tailed interval for $\\lambda$ is: $(0.03, 0.51)$"
   ]
  },
  {
   "cell_type": "code",
   "execution_count": 5,
   "id": "taken-exercise",
   "metadata": {},
   "outputs": [
    {
     "data": {
      "image/png": "[encoded data removed]",
      "text/plain": [
       "<Figure size 432x288 with 1 Axes>"
      ]
     },
     "metadata": {
      "needs_background": "light"
     },
     "output_type": "display_data"
    }
   ],
   "source": [
    "az.plot_density(fit, var_names=[\"lambda\"]);"
   ]
  }
 ],
 "metadata": {
  "kernelspec": {
   "display_name": "Python 3",
   "language": "python",
   "name": "python3"
  },
  "language_info": {
   "codemirror_mode": {
    "name": "ipython",
    "version": 3
   },
   "file_extension": ".py",
   "mimetype": "text/x-python",
   "name": "python",
   "nbconvert_exporter": "python",
   "pygments_lexer": "ipython3",
   "version": "3.6.12"
  }
 },
 "nbformat": 4,
 "nbformat_minor": 5
}

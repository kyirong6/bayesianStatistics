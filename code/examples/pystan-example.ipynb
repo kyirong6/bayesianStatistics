{
 "cells": [
  {
   "cell_type": "code",
   "execution_count": 2,
   "metadata": {},
   "outputs": [],
   "source": [
    "import pystan\n",
    "import pandas as pd\n",
    "import numpy as np\n",
    "import seaborn as sns"
   ]
  },
  {
   "cell_type": "code",
   "execution_count": 3,
   "metadata": {},
   "outputs": [],
   "source": [
    "import arviz as az"
   ]
  },
  {
   "cell_type": "markdown",
   "metadata": {},
   "source": [
    "# Coin Toss\n",
    "\n",
    "How can we be sure a coin toss is fair? A bayesian approach would require us to choose a prior distribution for theta. Theta in this example represents the probability of landing a heads. Moreover, we need a distrbution that we think y follows. In this case, y is a bernoulli trial.\n",
    "\n",
    "Our posterior is proportional to: likelihood * prior\n",
    "\n",
    "prior: beta(5,5) -> this is because we'd like the distribution of beta to be symmetrical around 0.5\n",
    "\n",
    "The graph below shows a beta(5,5) distribution of theta and 10,000 samples are drawn and plotted. As we can see, the graph is symmetric around 0.5. This means, our prior distribution gives us an average value of theta of 0.5 (our prior belief being that the coin is indeed fair)."
   ]
  },
  {
   "cell_type": "code",
   "execution_count": 4,
   "metadata": {},
   "outputs": [
    {
     "data": {
      "text/plain": [
       "<seaborn.axisgrid.FacetGrid at 0x7fc367729320>"
      ]
     },
     "execution_count": 4,
     "metadata": {},
     "output_type": "execute_result"
    },
    {
     "data": {
      "image/png": "[encoded data removed]",
      "text/plain": [
       "<Figure size 360x360 with 1 Axes>"
      ]
     },
     "metadata": {
      "needs_background": "light"
     },
     "output_type": "display_data"
    }
   ],
   "source": [
    "sns.displot(np.random.beta(5,5, size=10000),kde=False)"
   ]
  },
  {
   "cell_type": "markdown",
   "metadata": {},
   "source": [
    "# pystan to calculate posterior\n",
    "\n",
    "**data**: corresponds to the data of our model. In this case, the integer N corresponds to the number of coin tosses, and y corresponds to a vector of integers of length N that will contain the observations of our experiment.\n",
    "\n",
    "**parameters**: correspond to the parameters of our model, in this case theta, or the probability of obtaining “Heads”\n",
    "\n",
    "**model**: corresponds to the definition of our prior (beta) and likelihood (bernoulli).\n",
    "\n",
    "\n",
    "In our example, lets say we flipped the coin 4 times (N=4) and we observed all tails (y=[0,0,0,0]). What would our posterior distribution tell us?"
   ]
  },
  {
   "cell_type": "code",
   "execution_count": 5,
   "metadata": {},
   "outputs": [
    {
     "name": "stderr",
     "output_type": "stream",
     "text": [
      "INFO:pystan:COMPILING THE C++ CODE FOR MODEL anon_model_d3835c4370ff5e66f1e88bd3eac647ff NOW.\n"
     ]
    },
    {
     "name": "stdout",
     "output_type": "stream",
     "text": [
      "Inference for Stan model: anon_model_d3835c4370ff5e66f1e88bd3eac647ff.\n",
      "4 chains, each with iter=4000; warmup=1000; thin=1; \n",
      "post-warmup draws per chain=3000, total post-warmup draws=12000.\n",
      "\n",
      "        mean se_mean     sd   2.5%    25%    50%    75%  97.5%  n_eff   Rhat\n",
      "theta   0.36  1.9e-3   0.12   0.14   0.27   0.35   0.44   0.61   4011    1.0\n",
      "lp__   -9.64  9.8e-3   0.74 -11.78  -9.81  -9.35  -9.18  -9.13   5776    1.0\n",
      "\n",
      "Samples were drawn using NUTS at Mon Feb 22 18:48:09 2021.\n",
      "For each parameter, n_eff is a crude measure of effective sample size,\n",
      "and Rhat is the potential scale reduction factor on split chains (at \n",
      "convergence, Rhat=1).\n"
     ]
    }
   ],
   "source": [
    "# bernoulli model\n",
    "model_code = \"\"\"\n",
    "    data {\n",
    "      int<lower=0> N;\n",
    "      int<lower=0,upper=1> y[N];\n",
    "    }\n",
    "    parameters {\n",
    "      real<lower=0,upper=1> theta;\n",
    "    }\n",
    "    model {\n",
    "      theta ~ beta(5, 5);\n",
    "      for (n in 1:N)\n",
    "          y[n] ~ bernoulli(theta);\n",
    "    }\n",
    "    \"\"\"\n",
    "data = dict(N=4, y=[0, 0, 0, 0])\n",
    "model = pystan.StanModel(model_code=model_code)\n",
    "fit = model.sampling(data=data,iter=4000, chains=4, warmup=1000)\n",
    "la = fit.extract(permuted=True)  # return a dictionary of arrays\n",
    "print(fit.stansummary())"
   ]
  },
  {
   "cell_type": "markdown",
   "metadata": {},
   "source": [
    "# Results\n",
    "\n",
    "Based on our experiment, our posterior mean shows a value of: **0.36** which is less than 0.5. This means the coin may not be fair. However, our posterior interval of 95% is quite wide (0.14, 0.61) which could show that our results arent quite statistically conclusive. However, since the number of trials are small, we can see that our posterior is not fully influenced by our likelhood. If we keep our ratio of of tails constant (100%) and increase the sample size, we will see that our posterior becomes more and more influenced by the likelihood.\n",
    "\n",
    "This is the behaviour we want because if we increased the amount of data we observe, we would like our resulting posterior to reflect the data.\n",
    "\n",
    "We will graph our resulting fit using the arviz library."
   ]
  },
  {
   "cell_type": "code",
   "execution_count": 6,
   "metadata": {},
   "outputs": [
    {
     "data": {
      "image/png": "[encoded data removed]",
      "text/plain": [
       "<Figure size 432x288 with 1 Axes>"
      ]
     },
     "metadata": {
      "needs_background": "light"
     },
     "output_type": "display_data"
    }
   ],
   "source": [
    "az.plot_density(fit, var_names=[\"theta\"]);"
   ]
  }
 ],
 "metadata": {
  "kernelspec": {
   "display_name": "Python 3",
   "language": "python",
   "name": "python3"
  },
  "language_info": {
   "codemirror_mode": {
    "name": "ipython",
    "version": 3
   },
   "file_extension": ".py",
   "mimetype": "text/x-python",
   "name": "python",
   "nbconvert_exporter": "python",
   "pygments_lexer": "ipython3",
   "version": "3.6.12"
  }
 },
 "nbformat": 4,
 "nbformat_minor": 2
}
